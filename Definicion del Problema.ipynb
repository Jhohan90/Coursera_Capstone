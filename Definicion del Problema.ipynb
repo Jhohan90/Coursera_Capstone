{
 "cells": [
  {
   "cell_type": "markdown",
   "metadata": {},
   "source": [
    "### DEFINICION DEL PROBLEMA"
   ]
  },
  {
   "cell_type": "markdown",
   "metadata": {},
   "source": [
    "Un grupo de inversionistas extranjeros han llegado a Colombia con el deseo de invertir parte de su capital, iniciando un negocio de tipo comercial en alguna de los municipios del hermoso pais cafetero.\n",
    "\n",
    "Al no tener muchos conocimientos sobre el pais ni de cual o cuales pueden ser los municipios mas optimas para dicho establecimiento comercial o de que tipo de comercio seria el mas provechoso en dichos municipios, optan por buscar a un cientifico de datos el cual les ayude a resolver todas estas dudas y puedan tomar la decision mas acertada acerca de que tipo de establecimiento comercial establecer y en que municipio del pais."
   ]
  },
  {
   "cell_type": "markdown",
   "metadata": {},
   "source": []
  }
 ],
 "metadata": {
  "interpreter": {
   "hash": "ac59ebe37160ed0dfa835113d9b8498d9f09ceb179beaac4002f036b9467c963"
  },
  "kernelspec": {
   "display_name": "Python 3.9.7 64-bit",
   "language": "python",
   "name": "python3"
  },
  "language_info": {
   "name": "python",
   "version": "3.9.7"
  },
  "orig_nbformat": 4
 },
 "nbformat": 4,
 "nbformat_minor": 2
}
