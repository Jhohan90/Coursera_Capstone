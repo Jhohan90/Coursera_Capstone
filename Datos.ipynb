{
 "cells": [
  {
   "cell_type": "markdown",
   "metadata": {},
   "source": [
    "### DATOS"
   ]
  },
  {
   "cell_type": "markdown",
   "metadata": {},
   "source": [
    "Los datos necesarios para este analisis son:\n",
    "\n",
    "- Division Politica de los municipios de Colombia con sus coordenadas geograficas, obtenidos de la pagina del DANE (Departamento Administrativo Nacional de Estadística) es la entidad responsable de la planeación, levantamiento, procesamiento, análisis y difusión de las estadísticas oficiales de Colombia. https://geoportal.dane.gov.co/geovisores/territorio/consulta-divipola-division-politico-administrativa-de-colombia/   \n",
    " \n",
    "- Los 10 municipios con el mayor PIB del pais para el año 2019, ya que son los municipios con mayores ingresos economicos del pais a la fecha son tentativamente la mejor opcion para tener en cuenta en el lugar deseado para invertir, datos obtenidos de Wikipedia proporcionados por el DANE. https://es.wikipedia.org/wiki/Anexo:Municipios_de_Colombia_por_Producto_Interno_Bruto   \n",
    " \n",
    "- Coordenadas geograficas de Colombia y de los lugares mas populares de los 10 municipios mas representativos economicamente del pais, los cuales seriviran para tener una mayor idea de en que tipo de comercio se debe invertir, datos obtenidos de la pagina Foursquare. https://es.foursquare.com/developers/projects"
   ]
  }
 ],
 "metadata": {
  "language_info": {
   "name": "python"
  },
  "orig_nbformat": 4
 },
 "nbformat": 4,
 "nbformat_minor": 2
}
